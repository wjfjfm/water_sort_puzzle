{
 "cells": [
  {
   "cell_type": "markdown",
   "metadata": {},
   "source": [
    "# Water Sort Puzzle Solver\n",
    "\n",
    "A visible solver to water sort puzzle base on python."
   ]
  },
  {
   "cell_type": "markdown",
   "metadata": {},
   "source": [
    "## 1. Solve Puzzle From Current State\n",
    "\n",
    "You can define the bottle_state By Using following colors or just use number:\n",
    "\n",
    "<table>\n",
    "<tr>\n",
    "<td><font color=#79DF83 size=10 >●<font size=2 >LG or LIGHTGREEN: </font></font></td>\n",
    "<td><font color=#55585E size=10 >●<font size=2 >GY or GRAY: </font></font></td>\n",
    "<td><font color=#E88A45 size=10 >●<font size=2 >OR or ORANGE: </font></font></td>\n",
    "<td><font color=#FDEA68 size=10 >●<font size=2 >YE or YELLOW: </font></font></td>\n",
    "</tr>\n",
    "<tr>\n",
    "<td><font color=#B22923 size=10 >●<font size=2 >RE or RED: </font></font></td>\n",
    "<td><font color=#571F86 size=10 >●<font size=2 >PU or PURPLE: </font></font></td>\n",
    "<td><font color=#74931F size=10 >●<font size=2 >GR or GREEN: </font></font></td>\n",
    "<td><font color=#DF5D73 size=10 >●<font size=2 >PI or PINK: </font></font></td>\n",
    "</tr>\n",
    "<tr>\n",
    "<td><font color=#6A3D11 size=10 >●<font size=2 >BR or BROWN: </font></font></td>\n",
    "<td><font color=#20562B size=10 >●<font size=2 >DG or DARKGREEN: </font></font></td>\n",
    "<td><font color=#2920BC size=10 >●<font size=2 >BL or BLUE: </font></font></td>\n",
    "<td><font color=#5D9EEA size=10 >●<font size=2 >LB or LIGHTBLUE: </font></font></td>\n",
    "</tr>\n",
    "</table>\n",
    "\n",
    "Use **Shift + Enter** to executor following blocks:"
   ]
  },
  {
   "cell_type": "code",
   "execution_count": null,
   "metadata": {
    "scrolled": false
   },
   "outputs": [
    {
     "name": "stdout",
     "output_type": "stream",
     "text": [
      "Origin Status:\n"
     ]
    },
    {
     "data": {
      "image/png": "[encoded data removed]",
      "text/plain": [
       "<Figure size 180x144 with 5 Axes>"
      ]
     },
     "metadata": {
      "needs_background": "light"
     },
     "output_type": "display_data"
    },
    {
     "name": "stdout",
     "output_type": "stream",
     "text": [
      "Step 1: 2 --> 4\n"
     ]
    },
    {
     "data": {
      "image/png": "[encoded data removed]",
      "text/plain": [
       "<Figure size 180x144 with 5 Axes>"
      ]
     },
     "metadata": {
      "needs_background": "light"
     },
     "output_type": "display_data"
    },
    {
     "name": "stdout",
     "output_type": "stream",
     "text": [
      "\n",
      "Step 2: 2 --> 3\n"
     ]
    },
    {
     "data": {
      "image/png": "[encoded data removed]",
      "text/plain": [
       "<Figure size 180x144 with 5 Axes>"
      ]
     },
     "metadata": {
      "needs_background": "light"
     },
     "output_type": "display_data"
    },
    {
     "name": "stdout",
     "output_type": "stream",
     "text": [
      "\n",
      "Step 3: 1 --> 3\n"
     ]
    },
    {
     "data": {
      "image/png": "[encoded data removed]",
      "text/plain": [
       "<Figure size 180x144 with 5 Axes>"
      ]
     },
     "metadata": {
      "needs_background": "light"
     },
     "output_type": "display_data"
    },
    {
     "name": "stdout",
     "output_type": "stream",
     "text": [
      "\n",
      "Step 4: 2 --> 1\n"
     ]
    },
    {
     "data": {
      "image/png": "[encoded data removed]",
      "text/plain": [
       "<Figure size 180x144 with 5 Axes>"
      ]
     },
     "metadata": {
      "needs_background": "light"
     },
     "output_type": "display_data"
    },
    {
     "name": "stdout",
     "output_type": "stream",
     "text": [
      "\n",
      "Step 5: 4 --> 2\n"
     ]
    },
    {
     "data": {
      "image/png": "[encoded data removed]",
      "text/plain": [
       "<Figure size 180x144 with 5 Axes>"
      ]
     },
     "metadata": {
      "needs_background": "light"
     },
     "output_type": "display_data"
    }
   ],
   "source": [
    "from water_sort_puzzle.puzzle_solver import *\n",
    "\n",
    "# Define the Current State like this:\n",
    "bottle_state = [\n",
    "    [PU,YE,PI,PI],\n",
    "    [PU,YE,PU,YE],\n",
    "    [PI,PU,YE,PI],\n",
    "    [],\n",
    "    [], \n",
    "]\n",
    "\n",
    "solve_puzzle(bottle_state)"
   ]
  },
  {
   "cell_type": "markdown",
   "metadata": {},
   "source": [
    "## 2. Customize the execution process:\n",
    "\n",
    "Rewrite this function to change te execution process.\n",
    "\n",
    "**If you can understand it**"
   ]
  },
  {
   "cell_type": "code",
   "execution_count": 5,
   "metadata": {},
   "outputs": [],
   "source": [
    "from water_sort_puzzle.puzzle_solver import *\n",
    "def solve_puzzle(bottle_state):\n",
    "    \n",
    "    pvb = PlotableVialBoard(bottle_state)  # Initialize\n",
    "    solved_pvb = solve(pvb)  # Solve puzzle\n",
    "    paths = solved_pvb.path  # Save Solution\n",
    "\n",
    "    # Print out Solution:\n",
    "    new_pvb = pvb.clone()\n",
    "\n",
    "    print('Origin Status:')\n",
    "    new_pvb.show()\n",
    "\n",
    "    for n, path in enumerate(paths):\n",
    "        print('Step %d: %d --> %d' % (n+1, path[0]+1, path[1]+1))\n",
    "        new_pvb.move(*path)\n",
    "        new_pvb.show()\n",
    "        print()"
   ]
  },
  {
   "cell_type": "markdown",
   "metadata": {},
   "source": [
    "## 3. Some bottle_status we made for specific puzzle levels:\n",
    "\n",
    "use **SHIFT + Enter** to execute:"
   ]
  },
  {
   "cell_type": "code",
   "execution_count": null,
   "metadata": {},
   "outputs": [],
   "source": [
    "# level 107\n",
    "bottle_state = [\n",
    "    [YE,OR,GY,LG],\n",
    "    [LB,GR,PU,RE],\n",
    "    [PU,LG,PI,GR],\n",
    "    [BR,RE,PI,YE],\n",
    "    [PU,BR,BL,GR],\n",
    "    [YE,PU,GY,GR],\n",
    "    [DG,LB,GY,OR],\n",
    "    [PI,LB,DG,RE],\n",
    "    [LG,LB,BL,BL],\n",
    "    [OR,PI,BR,DG],\n",
    "    [OR,YE,LG,GY],\n",
    "    [BL,DG,BR,RE],\n",
    "    [],\n",
    "    [],\n",
    "]\n",
    "\n",
    "solve_puzzle(bottle_state)"
   ]
  },
  {
   "cell_type": "markdown",
   "metadata": {},
   "source": []
  }
 ],
 "metadata": {
  "kernelspec": {
   "display_name": "Python 3",
   "language": "python",
   "name": "python3"
  },
  "language_info": {
   "codemirror_mode": {
    "name": "ipython",
    "version": 3
   },
   "file_extension": ".py",
   "mimetype": "text/x-python",
   "name": "python",
   "nbconvert_exporter": "python",
   "pygments_lexer": "ipython3",
   "version": "3.8.5"
  }
 },
 "nbformat": 4,
 "nbformat_minor": 4
}
